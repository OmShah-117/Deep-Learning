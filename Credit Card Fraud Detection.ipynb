{
 "cells": [
  {
   "cell_type": "code",
   "execution_count": 30,
   "id": "3426fcab-0dd1-4a02-88eb-0eb274e3d747",
   "metadata": {},
   "outputs": [],
   "source": [
    "import pandas as pd \n",
    "import numpy as np\n",
    "from sklearn.model_selection import train_test_split\n",
    "from sklearn.preprocessing import StandardScaler\n",
    "from sklearn.metrics import classification_report, confusion_matrix, roc_auc_score\n",
    "import tensorflow as tf\n",
    "from tensorflow.keras.models import Sequential\n",
    "from tensorflow.keras.layers import Dense, Dropout\n",
    "from imblearn.over_sampling import SMOTE"
   ]
  },
  {
   "cell_type": "code",
   "execution_count": 31,
   "id": "cf9749ee-9e67-4df1-986d-af3883097bff",
   "metadata": {},
   "outputs": [],
   "source": [
    "df=pd.read_csv(\"creditcard.csv\")"
   ]
  },
  {
   "cell_type": "code",
   "execution_count": 32,
   "id": "1063833d-8ab2-46db-8bae-dce06bcf21f1",
   "metadata": {},
   "outputs": [
    {
     "data": {
      "text/plain": [
       "Time      0\n",
       "V1        0\n",
       "V2        0\n",
       "V3        0\n",
       "V4        0\n",
       "V5        0\n",
       "V6        0\n",
       "V7        0\n",
       "V8        0\n",
       "V9        0\n",
       "V10       0\n",
       "V11       0\n",
       "V12       0\n",
       "V13       0\n",
       "V14       0\n",
       "V15       0\n",
       "V16       0\n",
       "V17       0\n",
       "V18       0\n",
       "V19       0\n",
       "V20       0\n",
       "V21       0\n",
       "V22       0\n",
       "V23       0\n",
       "V24       0\n",
       "V25       0\n",
       "V26       0\n",
       "V27       0\n",
       "V28       0\n",
       "Amount    0\n",
       "Class     0\n",
       "dtype: int64"
      ]
     },
     "execution_count": 32,
     "metadata": {},
     "output_type": "execute_result"
    }
   ],
   "source": [
    "df.isnull().sum()"
   ]
  },
  {
   "cell_type": "code",
   "execution_count": 33,
   "id": "4311c5a2-e849-453c-990c-019f8cc96905",
   "metadata": {},
   "outputs": [
    {
     "data": {
      "text/plain": [
       "np.int64(492)"
      ]
     },
     "execution_count": 33,
     "metadata": {},
     "output_type": "execute_result"
    }
   ],
   "source": [
    "df['Class'].sum()"
   ]
  },
  {
   "cell_type": "code",
   "execution_count": 34,
   "id": "ce84990c-de0e-4602-9100-0ebc89a3415f",
   "metadata": {},
   "outputs": [],
   "source": [
    "X = df.drop('Class', axis=1)\n",
    "y = df['Class']"
   ]
  },
  {
   "cell_type": "code",
   "execution_count": 35,
   "id": "306fc23d-f3ab-4bc5-9a07-72530662f2d7",
   "metadata": {},
   "outputs": [],
   "source": [
    "scaler = StandardScaler()\n",
    "X[['Time', 'Amount']] = scaler.fit_transform(X[['Time', 'Amount']])"
   ]
  },
  {
   "cell_type": "code",
   "execution_count": 36,
   "id": "ef5ad72e-1fa8-4732-b051-27e2acb5be02",
   "metadata": {},
   "outputs": [],
   "source": [
    "X_train, X_test, y_train, y_test = train_test_split(X, y, test_size=0.2, random_state=42, stratify=y)"
   ]
  },
  {
   "cell_type": "code",
   "execution_count": 37,
   "id": "01de1f88-c78b-4349-b0a4-45371e6921f4",
   "metadata": {},
   "outputs": [],
   "source": [
    "smote = SMOTE(sampling_strategy='minority', random_state=42)\n",
    "X_train_res, y_train_res = smote.fit_resample(X_train, y_train)"
   ]
  },
  {
   "cell_type": "code",
   "execution_count": null,
   "id": "bf28841a-8d6b-4a37-af87-66b89c215195",
   "metadata": {},
   "outputs": [
    {
     "name": "stderr",
     "output_type": "stream",
     "text": [
      "C:\\Users\\oshah\\anaconda3\\Lib\\site-packages\\keras\\src\\layers\\core\\dense.py:92: UserWarning: Do not pass an `input_shape`/`input_dim` argument to a layer. When using Sequential models, prefer using an `Input(shape)` object as the first layer in the model instead.\n",
      "  super().__init__(activity_regularizer=activity_regularizer, **kwargs)\n"
     ]
    }
   ],
   "source": [
    "model = Sequential([\n",
    "    Dense(64, input_dim=X_train.shape[1], activation='relu'),\n",
    "    Dropout(0.5),\n",
    "    Dense(32, activation='relu'),\n",
    "    Dropout(0.5),\n",
    "    Dense(1, activation='sigmoid')\n",
    "])"
   ]
  },
  {
   "cell_type": "code",
   "execution_count": 39,
   "id": "29de6bfa-2ea5-44f6-a84e-ce35fe7be9bb",
   "metadata": {},
   "outputs": [],
   "source": [
    "model.compile(optimizer='adam', loss='binary_crossentropy', metrics=['accuracy'])"
   ]
  },
  {
   "cell_type": "code",
   "execution_count": 40,
   "id": "874b47a7-4cdd-4209-bfc2-71a3506f5fa8",
   "metadata": {},
   "outputs": [
    {
     "name": "stdout",
     "output_type": "stream",
     "text": [
      "Epoch 1/20\n",
      "90/90 - 3s - 34ms/step - accuracy: 0.9883 - loss: 0.0970 - val_accuracy: 0.9982 - val_loss: 0.0130\n",
      "Epoch 2/20\n",
      "90/90 - 1s - 11ms/step - accuracy: 0.9983 - loss: 0.0174 - val_accuracy: 0.9987 - val_loss: 0.0053\n",
      "Epoch 3/20\n",
      "90/90 - 1s - 10ms/step - accuracy: 0.9987 - loss: 0.0098 - val_accuracy: 0.9992 - val_loss: 0.0044\n",
      "Epoch 4/20\n",
      "90/90 - 1s - 14ms/step - accuracy: 0.9988 - loss: 0.0075 - val_accuracy: 0.9993 - val_loss: 0.0041\n",
      "Epoch 5/20\n",
      "90/90 - 1s - 9ms/step - accuracy: 0.9990 - loss: 0.0065 - val_accuracy: 0.9993 - val_loss: 0.0040\n",
      "Epoch 6/20\n",
      "90/90 - 1s - 8ms/step - accuracy: 0.9990 - loss: 0.0063 - val_accuracy: 0.9993 - val_loss: 0.0039\n",
      "Epoch 7/20\n",
      "90/90 - 1s - 8ms/step - accuracy: 0.9991 - loss: 0.0053 - val_accuracy: 0.9993 - val_loss: 0.0038\n",
      "Epoch 8/20\n",
      "90/90 - 1s - 9ms/step - accuracy: 0.9991 - loss: 0.0049 - val_accuracy: 0.9993 - val_loss: 0.0038\n",
      "Epoch 9/20\n",
      "90/90 - 1s - 12ms/step - accuracy: 0.9992 - loss: 0.0051 - val_accuracy: 0.9993 - val_loss: 0.0038\n",
      "Epoch 10/20\n",
      "90/90 - 1s - 12ms/step - accuracy: 0.9991 - loss: 0.0050 - val_accuracy: 0.9993 - val_loss: 0.0038\n",
      "Epoch 11/20\n",
      "90/90 - 1s - 9ms/step - accuracy: 0.9990 - loss: 0.0047 - val_accuracy: 0.9993 - val_loss: 0.0037\n",
      "Epoch 12/20\n",
      "90/90 - 1s - 9ms/step - accuracy: 0.9991 - loss: 0.0044 - val_accuracy: 0.9993 - val_loss: 0.0037\n",
      "Epoch 13/20\n",
      "90/90 - 1s - 10ms/step - accuracy: 0.9992 - loss: 0.0041 - val_accuracy: 0.9994 - val_loss: 0.0037\n",
      "Epoch 14/20\n",
      "90/90 - 1s - 9ms/step - accuracy: 0.9992 - loss: 0.0042 - val_accuracy: 0.9994 - val_loss: 0.0036\n",
      "Epoch 15/20\n",
      "90/90 - 1s - 11ms/step - accuracy: 0.9993 - loss: 0.0040 - val_accuracy: 0.9994 - val_loss: 0.0036\n",
      "Epoch 16/20\n",
      "90/90 - 1s - 10ms/step - accuracy: 0.9992 - loss: 0.0041 - val_accuracy: 0.9994 - val_loss: 0.0037\n",
      "Epoch 17/20\n",
      "90/90 - 1s - 11ms/step - accuracy: 0.9992 - loss: 0.0039 - val_accuracy: 0.9994 - val_loss: 0.0037\n",
      "Epoch 18/20\n",
      "90/90 - 1s - 9ms/step - accuracy: 0.9993 - loss: 0.0040 - val_accuracy: 0.9994 - val_loss: 0.0036\n",
      "Epoch 19/20\n",
      "90/90 - 1s - 9ms/step - accuracy: 0.9993 - loss: 0.0038 - val_accuracy: 0.9994 - val_loss: 0.0036\n",
      "Epoch 20/20\n",
      "90/90 - 1s - 9ms/step - accuracy: 0.9993 - loss: 0.0038 - val_accuracy: 0.9994 - val_loss: 0.0036\n"
     ]
    }
   ],
   "source": [
    "history = model.fit(X_train, y_train, epochs=20, batch_size=2048, validation_split=0.2, verbose=2)"
   ]
  },
  {
   "cell_type": "code",
   "execution_count": 41,
   "id": "ac97eec8-2ce6-4d71-8f9c-97f0475e9e2e",
   "metadata": {},
   "outputs": [
    {
     "name": "stdout",
     "output_type": "stream",
     "text": [
      "\u001b[1m1781/1781\u001b[0m \u001b[32m━━━━━━━━━━━━━━━━━━━━\u001b[0m\u001b[37m\u001b[0m \u001b[1m3s\u001b[0m 2ms/step\n"
     ]
    }
   ],
   "source": [
    "y_pred_prob = model.predict(X_test)\n",
    "y_pred = (y_pred_prob > 0.5).astype(int)"
   ]
  },
  {
   "cell_type": "code",
   "execution_count": 42,
   "id": "b7688419-6832-41b6-b679-5f37cfbe9520",
   "metadata": {},
   "outputs": [
    {
     "name": "stdout",
     "output_type": "stream",
     "text": [
      "Classification Report:\n",
      "              precision    recall  f1-score   support\n",
      "\n",
      "           0       1.00      1.00      1.00     56864\n",
      "           1       0.82      0.81      0.81        98\n",
      "\n",
      "    accuracy                           1.00     56962\n",
      "   macro avg       0.91      0.90      0.91     56962\n",
      "weighted avg       1.00      1.00      1.00     56962\n",
      "\n"
     ]
    }
   ],
   "source": [
    "print(\"Classification Report:\")\n",
    "print(classification_report(y_test, y_pred))"
   ]
  },
  {
   "cell_type": "code",
   "execution_count": 43,
   "id": "fab2bcc7-3eb1-4118-99a0-a5eb308efde3",
   "metadata": {},
   "outputs": [
    {
     "name": "stdout",
     "output_type": "stream",
     "text": [
      "Confusion Matrix:\n",
      "[[56847    17]\n",
      " [   19    79]]\n"
     ]
    }
   ],
   "source": [
    "print(\"Confusion Matrix:\")\n",
    "print(confusion_matrix(y_test, y_pred))"
   ]
  },
  {
   "cell_type": "code",
   "execution_count": 44,
   "id": "8257481b-d54a-4964-895b-14b3eba31084",
   "metadata": {},
   "outputs": [
    {
     "name": "stdout",
     "output_type": "stream",
     "text": [
      "ROC-AUC Score: 0.9799937983071676\n"
     ]
    }
   ],
   "source": [
    "print(\"ROC-AUC Score:\", roc_auc_score(y_test, y_pred_prob))"
   ]
  },
  {
   "cell_type": "code",
   "execution_count": null,
   "id": "a4f90097-29c2-401f-8bd2-1dc22ac9c5c7",
   "metadata": {},
   "outputs": [
    {
     "name": "stdout",
     "output_type": "stream",
     "text": [
      "Collecting keras-tuner\n",
      "  Downloading keras_tuner-1.4.7-py3-none-any.whl.metadata (5.4 kB)\n",
      "Requirement already satisfied: keras in c:\\users\\oshah\\anaconda3\\lib\\site-packages (from keras-tuner) (3.11.3)\n",
      "Requirement already satisfied: packaging in c:\\users\\oshah\\anaconda3\\lib\\site-packages (from keras-tuner) (24.2)\n",
      "Requirement already satisfied: requests in c:\\users\\oshah\\anaconda3\\lib\\site-packages (from keras-tuner) (2.32.3)\n",
      "Collecting kt-legacy (from keras-tuner)\n",
      "  Downloading kt_legacy-1.0.5-py3-none-any.whl.metadata (221 bytes)\n",
      "Requirement already satisfied: absl-py in c:\\users\\oshah\\anaconda3\\lib\\site-packages (from keras->keras-tuner) (2.3.1)\n",
      "Requirement already satisfied: numpy in c:\\users\\oshah\\anaconda3\\lib\\site-packages (from keras->keras-tuner) (2.1.3)\n",
      "Requirement already satisfied: rich in c:\\users\\oshah\\anaconda3\\lib\\site-packages (from keras->keras-tuner) (13.9.4)\n",
      "Requirement already satisfied: namex in c:\\users\\oshah\\anaconda3\\lib\\site-packages (from keras->keras-tuner) (0.1.0)\n",
      "Requirement already satisfied: h5py in c:\\users\\oshah\\anaconda3\\lib\\site-packages (from keras->keras-tuner) (3.12.1)\n",
      "Requirement already satisfied: optree in c:\\users\\oshah\\anaconda3\\lib\\site-packages (from keras->keras-tuner) (0.17.0)\n",
      "Requirement already satisfied: ml-dtypes in c:\\users\\oshah\\anaconda3\\lib\\site-packages (from keras->keras-tuner) (0.5.3)\n",
      "Requirement already satisfied: typing-extensions>=4.6.0 in c:\\users\\oshah\\anaconda3\\lib\\site-packages (from optree->keras->keras-tuner) (4.12.2)\n",
      "Requirement already satisfied: charset-normalizer<4,>=2 in c:\\users\\oshah\\anaconda3\\lib\\site-packages (from requests->keras-tuner) (3.3.2)\n",
      "Requirement already satisfied: idna<4,>=2.5 in c:\\users\\oshah\\anaconda3\\lib\\site-packages (from requests->keras-tuner) (3.7)\n",
      "Requirement already satisfied: urllib3<3,>=1.21.1 in c:\\users\\oshah\\anaconda3\\lib\\site-packages (from requests->keras-tuner) (2.3.0)\n",
      "Requirement already satisfied: certifi>=2017.4.17 in c:\\users\\oshah\\anaconda3\\lib\\site-packages (from requests->keras-tuner) (2025.7.14)\n",
      "Requirement already satisfied: markdown-it-py>=2.2.0 in c:\\users\\oshah\\anaconda3\\lib\\site-packages (from rich->keras->keras-tuner) (2.2.0)\n",
      "Requirement already satisfied: pygments<3.0.0,>=2.13.0 in c:\\users\\oshah\\anaconda3\\lib\\site-packages (from rich->keras->keras-tuner) (2.19.1)\n",
      "Requirement already satisfied: mdurl~=0.1 in c:\\users\\oshah\\anaconda3\\lib\\site-packages (from markdown-it-py>=2.2.0->rich->keras->keras-tuner) (0.1.0)\n",
      "Downloading keras_tuner-1.4.7-py3-none-any.whl (129 kB)\n",
      "Downloading kt_legacy-1.0.5-py3-none-any.whl (9.6 kB)\n",
      "Installing collected packages: kt-legacy, keras-tuner\n",
      "\n",
      "   -------------------- ------------------- 1/2 [keras-tuner]\n",
      "   -------------------- ------------------- 1/2 [keras-tuner]\n",
      "   -------------------- ------------------- 1/2 [keras-tuner]\n",
      "   -------------------- ------------------- 1/2 [keras-tuner]\n",
      "   ---------------------------------------- 2/2 [keras-tuner]\n",
      "\n",
      "Successfully installed keras-tuner-1.4.7 kt-legacy-1.0.5\n"
     ]
    },
    {
     "name": "stderr",
     "output_type": "stream",
     "text": [
      "C:\\Users\\oshah\\AppData\\Local\\Temp\\ipykernel_37032\\1034296094.py:2: DeprecationWarning: `import kerastuner` is deprecated, please use `import keras_tuner`.\n",
      "  from kerastuner.tuners import RandomSearch\n",
      "C:\\Users\\oshah\\anaconda3\\Lib\\site-packages\\keras\\src\\layers\\core\\dense.py:92: UserWarning: Do not pass an `input_shape`/`input_dim` argument to a layer. When using Sequential models, prefer using an `Input(shape)` object as the first layer in the model instead.\n",
      "  super().__init__(activity_regularizer=activity_regularizer, **kwargs)\n"
     ]
    }
   ],
   "source": [
    "!pip install keras-tuner\n",
    "from kerastuner.tuners import RandomSearch\n",
    "\n",
    "#model building function for tuner\n",
    "def build_model(hp):\n",
    "    model = Sequential()\n",
    "    model.add(Dense(units=hp.Int('units_1', min_value=32, max_value=128, step=32),\n",
    "                    activation='relu', input_dim=X_train_res.shape[1]))\n",
    "    model.add(Dropout(rate=hp.Float('dropout_1', min_value=0.2, max_value=0.6, step=0.1)))\n",
    "    if hp.Boolean('second_layer'):\n",
    "        model.add(Dense(units=hp.Int('units_2', min_value=32, max_value=128, step=32),\n",
    "                        activation='relu'))\n",
    "        model.add(Dropout(rate=hp.Float('dropout_2', min_value=0.2, max_value=0.6, step=0.1)))\n",
    "    model.add(Dense(1, activation='sigmoid'))\n",
    "    \n",
    "    model.compile(\n",
    "        optimizer=tf.keras.optimizers.Adam(\n",
    "            hp.Float('learning_rate', min_value=1e-4, max_value=1e-2, sampling='LOG')),\n",
    "        loss='binary_crossentropy',\n",
    "        metrics=['accuracy'])\n",
    "    return model\n",
    "\n",
    "#Setup tuner\n",
    "tuner = RandomSearch(\n",
    "    build_model,\n",
    "    objective='val_accuracy',\n",
    "    max_trials=10,\n",
    "    executions_per_trial=2,\n",
    "    directory='tuner_dir',\n",
    "    project_name='credit_card_fraud')\n"
   ]
  },
  {
   "cell_type": "code",
   "execution_count": 49,
   "id": "db650811-8f6a-4de9-a5ac-6398d29f8777",
   "metadata": {},
   "outputs": [
    {
     "name": "stdout",
     "output_type": "stream",
     "text": [
      "Trial 10 Complete [00h 01m 16s]\n",
      "val_accuracy: 1.0\n",
      "\n",
      "Best val_accuracy So Far: 1.0\n",
      "Total elapsed time: 00h 12m 19s\n"
     ]
    },
    {
     "name": "stderr",
     "output_type": "stream",
     "text": [
      "C:\\Users\\oshah\\anaconda3\\Lib\\site-packages\\keras\\src\\layers\\core\\dense.py:92: UserWarning: Do not pass an `input_shape`/`input_dim` argument to a layer. When using Sequential models, prefer using an `Input(shape)` object as the first layer in the model instead.\n",
      "  super().__init__(activity_regularizer=activity_regularizer, **kwargs)\n",
      "C:\\Users\\oshah\\anaconda3\\Lib\\site-packages\\keras\\src\\saving\\saving_lib.py:797: UserWarning: Skipping variable loading for optimizer 'adam', because it has 2 variables whereas the saved optimizer has 14 variables. \n",
      "  saveable.load_own_variables(weights_store.get(inner_path))\n"
     ]
    }
   ],
   "source": [
    "tuner.search(X_train_res, y_train_res, epochs=20, validation_split=0.2, batch_size=2048, verbose=2)\n",
    "est_model = tuner.get_best_models(num_models=1)[0]"
   ]
  },
  {
   "cell_type": "code",
   "execution_count": 50,
   "id": "9f3debaa-0e11-48f4-a592-b9173432ff25",
   "metadata": {},
   "outputs": [
    {
     "name": "stdout",
     "output_type": "stream",
     "text": [
      "\u001b[1m1781/1781\u001b[0m \u001b[32m━━━━━━━━━━━━━━━━━━━━\u001b[0m\u001b[37m\u001b[0m \u001b[1m5s\u001b[0m 2ms/step - accuracy: 0.9964 - loss: 0.0157\n",
      "Test Accuracy: 0.9964\n"
     ]
    }
   ],
   "source": [
    "loss, accuracy = est_model.evaluate(X_test, y_test)\n",
    "print(f\"Test Accuracy: {accuracy:.4f}\")"
   ]
  },
  {
   "cell_type": "code",
   "execution_count": null,
   "id": "5932e09e-5632-4861-a3a5-4e2c2ef14a8d",
   "metadata": {},
   "outputs": [
    {
     "name": "stdout",
     "output_type": "stream",
     "text": [
      "Precision: 0.8229\n",
      "Recall: 0.8061\n",
      "F1-score: 0.8144\n"
     ]
    }
   ],
   "source": [
    "from sklearn.metrics import precision_score, recall_score, f1_score\n",
    "precision = precision_score(y_test, y_pred)\n",
    "recall = recall_score(y_test, y_pred)\n",
    "f1 = f1_score(y_test, y_pred)\n",
    "\n",
    "print(f\"Precision: {precision:.4f}\")\n",
    "print(f\"Recall: {recall:.4f}\")\n",
    "print(f\"F1-score: {f1:.4f}\")\n"
   ]
  },
  {
   "cell_type": "code",
   "execution_count": null,
   "id": "59c9fa3e",
   "metadata": {},
   "outputs": [],
   "source": []
  }
 ],
 "metadata": {
  "kernelspec": {
   "display_name": "Python 3",
   "language": "python",
   "name": "python3"
  },
  "language_info": {
   "codemirror_mode": {
    "name": "ipython",
    "version": 3
   },
   "file_extension": ".py",
   "mimetype": "text/x-python",
   "name": "python",
   "nbconvert_exporter": "python",
   "pygments_lexer": "ipython3",
   "version": "3.12.4"
  }
 },
 "nbformat": 4,
 "nbformat_minor": 5
}
